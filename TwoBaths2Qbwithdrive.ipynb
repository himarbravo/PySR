{
  "nbformat": 4,
  "nbformat_minor": 0,
  "metadata": {
    "colab": {
      "provenance": [],
      "authorship_tag": "ABX9TyMN85TkK3a+CUQlYISDxY8y",
      "include_colab_link": true
    },
    "kernelspec": {
      "name": "python3",
      "display_name": "Python 3"
    },
    "language_info": {
      "name": "python"
    }
  },
  "cells": [
    {
      "cell_type": "markdown",
      "metadata": {
        "id": "view-in-github",
        "colab_type": "text"
      },
      "source": [
        "<a href=\"https://colab.research.google.com/github/himarbravo/PySR/blob/master/TwoBaths2Qbwithdrive.ipynb\" target=\"_parent\"><img src=\"https://colab.research.google.com/assets/colab-badge.svg\" alt=\"Open In Colab\"/></a>"
      ]
    },
    {
      "cell_type": "code",
      "execution_count": 2,
      "metadata": {
        "colab": {
          "base_uri": "https://localhost:8080/"
        },
        "id": "jLg75EEHLnuq",
        "outputId": "ef88485c-c5c1-4a79-efd7-0a9255e4057f"
      },
      "outputs": [
        {
          "output_type": "stream",
          "name": "stdout",
          "text": [
            "Requirement already satisfied: qutip in /usr/local/lib/python3.10/dist-packages (5.0.4)\n",
            "Requirement already satisfied: numpy>=1.22 in /usr/local/lib/python3.10/dist-packages (from qutip) (1.26.4)\n",
            "Requirement already satisfied: scipy>=1.9 in /usr/local/lib/python3.10/dist-packages (from qutip) (1.13.1)\n",
            "Requirement already satisfied: packaging in /usr/local/lib/python3.10/dist-packages (from qutip) (24.2)\n"
          ]
        }
      ],
      "source": [
        "!pip install qutip\n",
        "import dataclasses\n",
        "\n",
        "import numpy as np\n",
        "import matplotlib.pyplot as plt\n",
        "\n",
        "import qutip as qt\n",
        "from qutip.solver.heom import (\n",
        "    DrudeLorentzPadeBath,\n",
        "    UnderDampedBath,\n",
        "    BathExponent,\n",
        "    HEOMSolver,\n",
        ")\n",
        "\n",
        "from ipywidgets import IntProgress\n",
        "from IPython.display import display\n",
        "\n",
        "%matplotlib inline\n"
      ]
    },
    {
      "cell_type": "code",
      "source": [
        "# Solver options:\n",
        "\n",
        "options = {\n",
        "    \"nsteps\": 15000,\n",
        "    \"store_states\": True,\n",
        "    \"rtol\": 1e-12,\n",
        "    \"atol\": 1e-12,\n",
        "    \"min_step\": 1e-18,\n",
        "    \"method\": \"vern9\",\n",
        "    \"progress_bar\": \"enhanced\",\n",
        "}"
      ],
      "metadata": {
        "id": "3bB_TISIL3pM"
      },
      "execution_count": 3,
      "outputs": []
    },
    {
      "cell_type": "markdown",
      "source": [
        "System and bath definition"
      ],
      "metadata": {
        "id": "hnaxB1vvRwjC"
      }
    },
    {
      "cell_type": "code",
      "source": [
        "@dataclasses.dataclass\n",
        "class SystemParams:\n",
        "    \"\"\" System parameters and Hamiltonian. \"\"\"\n",
        "    epsilon: float = 1.0\n",
        "    J12: float = 0.1\n",
        "\n",
        "    def H(self):\n",
        "        \"\"\" Return the Hamiltonian for the system.\n",
        "\n",
        "            The system consists of two qubits with Hamiltonians (H1 and H2)\n",
        "            and an interaction term (H12).\n",
        "        \"\"\"\n",
        "        H1 = self.epsilon / 2 * (\n",
        "            qt.tensor(qt.sigmaz() + qt.identity(2), qt.identity(2))\n",
        "        )\n",
        "        H2 = self.epsilon / 2 * (\n",
        "            qt.tensor(qt.identity(2), qt.sigmaz() + qt.identity(2))\n",
        "        )\n",
        "        H12 = self.J12 * (\n",
        "            qt.tensor(qt.sigmap(), qt.sigmam()) +\n",
        "            qt.tensor(qt.sigmam(), qt.sigmap())\n",
        "        )\n",
        "        return H1 + H2 + H12\n",
        "\n",
        "    def replace(self, **kw):\n",
        "        return dataclasses.replace(self, **kw)\n"
      ],
      "metadata": {
        "id": "RbTBITDcRuZz"
      },
      "execution_count": 4,
      "outputs": []
    },
    {
      "cell_type": "code",
      "source": [
        "@dataclasses.dataclass\n",
        "class BathParams:\n",
        "    \"\"\" Bath parameters. \"\"\"\n",
        "    sign: str  # + or -\n",
        "    qubit: int  # 0 or 1\n",
        "\n",
        "    gamma: float = 2.0\n",
        "    lam: float = 0.05\n",
        "    Tbar: float = 2.0\n",
        "    Tdelta: float = 0.01\n",
        "    w0: float = 2.0  # Frecuencia de resonancia del baño\n",
        "    def __post_init__(self):\n",
        "        # T = Tbar +- Tdelta * Tbar:\n",
        "        assert self.sign in (\"+\", \"-\")\n",
        "        sign = +1 if self.sign == \"+\" else -1\n",
        "        self.T = self.Tbar + sign * self.Tdelta * self.Tbar\n",
        "        # qubit\n",
        "        assert self.qubit in (0, 1)\n",
        "\n",
        "    def Q(self):\n",
        "        \"\"\" Coupling operator for the bath. \"\"\"\n",
        "        Q = [qt.identity(2), qt.identity(2)]\n",
        "        Q[self.qubit] = qt.sigmax()\n",
        "        return qt.tensor(Q)\n",
        "\n",
        "    def bath(self, Nk, tag=None):\n",
        "\n",
        "        return DrudeLorentzPadeBath(\n",
        "            self.Q(), self.lam, self.gamma, self.T, Nk, tag=tag\n",
        "        )\n",
        "\n",
        "\n",
        "    def replace(self, **kw):\n",
        "        return dataclasses.replace(self, **kw)\n",
        "\n"
      ],
      "metadata": {
        "id": "Jg7IBrrnSTBh"
      },
      "execution_count": 5,
      "outputs": []
    },
    {
      "cell_type": "markdown",
      "source": [
        "Heat currents\n",
        "Following Ref. [2], we consider two possible definitions of the heat currents from the qubits into the baths. The so-called bath heat currents are $j_{\\text{B}}^K = \\partial_t \\langle H_{\\text{B}}^K \\rangle$\n",
        " and the system heat currents are $j_{\\text{S}}^K = \\mathrm i\\, \\langle [H_{\\text{S}}, Q_K] X_{\\text{B}}^K \\rangle$\n",
        ". As shown in Ref. [2], they can be expressed in terms of the HEOM ADOs as follows:\n",
        "\\begin{aligned} \\mbox{} \\\\\n",
        "    j_{\\text{B}}^K &= \\!\\!\\sum_{\\substack{\\mathbf n\\\\ \\text{Level 1}\\\\ \\text{Bath $K$}}}\\!\\! \\nu[\\mathbf n] \\operatorname{tr}\\bigl[ Q_K \\rho_{\\mathbf n} \\bigr] - 2 C_I^K(0) \\operatorname{tr}\\bigl[ Q_k^2 \\rho \\bigr] + \\Gamma_{\\text{T}}^K \\operatorname{tr}\\bigl[ [[H_{\\text{S}}, Q_K], Q_K]\\, \\rho \\bigr] , \\\\[.5em]\n",
        "    j_{\\text{S}}^K &= \\mathrm i\\!\\! \\sum_{\\substack{\\mathbf n\\\\ \\text{Level 1}\\\\ \\text{Bath $k$}}}\\!\\! \\operatorname{tr}\\bigl[ [H_{\\text{S}}, Q_K]\\, \\rho_{\\mathbf n} \\bigr] + \\Gamma_{\\text{T}}^K \\operatorname{tr}\\bigl[ [[H_{\\text{S}}, Q_K], Q_K]\\, \\rho \\bigr] . \\\\ \\mbox{}\n",
        "\\end{aligned}\n",
        "The sums run over all level-1\n",
        " multi-indices n\n",
        " with one excitation corresponding to the K-th bath, ν[n]\n",
        " is the corresponding (negative) exponent of the bath auto-correlation function $C^K(t)$\n",
        ", and $\\Gamma_{\\text{T}}^K$\n",
        " is the Ishizaki-Tanimura terminator (i.e., a correction term accounting for the error introduced by approximating the correlation function with a finite sum of exponential terms). In the expression for the bath heat currents, we left out terms involving [Q1,Q2]\n",
        ", which is zero in this example.\n",
        "\n",
        "   [2] Kato and Tanimura, J. Chem. Phys. 145, 224105 (2016).\n",
        "\n",
        "In QuTiP, these currents can be conveniently calculated as follows:"
      ],
      "metadata": {
        "id": "AyCx-5XzS8mQ"
      }
    },
    {
      "cell_type": "code",
      "source": [
        "\n",
        "def bath_heat_current(bath_tag, ado_state, hamiltonian, coupling_op, delta=0):\n",
        "    \"\"\"\n",
        "    Bath heat current from the system into the heat bath with the given tag.\n",
        "\n",
        "    Parameters\n",
        "    ----------\n",
        "    bath_tag : str, tuple or any other object\n",
        "        Tag of the heat bath corresponding to the current of interest.\n",
        "\n",
        "    ado_state : HierarchyADOsState\n",
        "        Current state of the system and the environment (encoded in the ADOs).\n",
        "\n",
        "    hamiltonian : Qobj\n",
        "        System Hamiltonian at the current time.\n",
        "\n",
        "    coupling_op : Qobj\n",
        "        System coupling operator at the current time.\n",
        "\n",
        "    delta : float\n",
        "        The prefactor of the \\\\delta(t) term in the correlation function (the\n",
        "        Ishizaki-Tanimura terminator).\n",
        "    \"\"\"\n",
        "    l1_labels = ado_state.filter(level=1, tags=[bath_tag])\n",
        "    a_op = 1j * (hamiltonian * coupling_op - coupling_op * hamiltonian)\n",
        "\n",
        "    result = 0\n",
        "    cI0 = 0  # imaginary part of bath auto-correlation function (t=0)\n",
        "    for label in l1_labels:\n",
        "        [exp] = ado_state.exps(label)\n",
        "        result += exp.vk * (coupling_op * ado_state.extract(label)).tr()\n",
        "\n",
        "        if exp.type == BathExponent.types['I']:\n",
        "\n",
        "            cI0 += exp.ck\n",
        "        elif exp.type == BathExponent.types['RI']:\n",
        "            cI0 += exp.ck2\n",
        "\n",
        "    result -= 2 * cI0 * (coupling_op * coupling_op * ado_state.rho).tr()\n",
        "    if delta != 0:\n",
        "        result -= (\n",
        "            1j * delta *\n",
        "            ((a_op * coupling_op - coupling_op * a_op) * ado_state.rho).tr()\n",
        "        )\n",
        "    return result\n",
        "\n",
        "\n",
        "def system_heat_current(\n",
        "    bath_tag, ado_state, hamiltonian, coupling_op, delta=0,\n",
        "):\n",
        "    \"\"\"\n",
        "    System heat current from the system into the heat bath with the given tag.\n",
        "\n",
        "    Parameters\n",
        "    ----------\n",
        "    bath_tag : str, tuple or any other object\n",
        "        Tag of the heat bath corresponding to the current of interest.\n",
        "\n",
        "    ado_state : HierarchyADOsState\n",
        "        Current state of the system and the environment (encoded in the ADOs).\n",
        "\n",
        "    hamiltonian : Qobj\n",
        "        System Hamiltonian at the current time.\n",
        "\n",
        "    coupling_op : Qobj\n",
        "        System coupling operator at the current time.\n",
        "\n",
        "    delta : float\n",
        "        The prefactor of the \\\\delta(t) term in the correlation function (the\n",
        "        Ishizaki-Tanimura terminator).\n",
        "    \"\"\"\n",
        "    l1_labels = ado_state.filter(level=1, tags=[bath_tag])\n",
        "    a_op = 1j * (hamiltonian * coupling_op - coupling_op * hamiltonian)\n",
        "\n",
        "    result = 0\n",
        "    for label in l1_labels:\n",
        "        result += (a_op * ado_state.extract(label)).tr()\n",
        "\n",
        "    if delta != 0:\n",
        "        result -= (\n",
        "            1j * delta *\n",
        "            ((a_op * coupling_op - coupling_op * a_op) * ado_state.rho).tr()\n",
        "        )\n",
        "    return result\n"
      ],
      "metadata": {
        "id": "_rB_sdcwUGzS"
      },
      "execution_count": 6,
      "outputs": []
    },
    {
      "cell_type": "markdown",
      "source": [
        "Note that at long times, we expect $j_{\\text{B}}^1 = -j_{\\text{B}}^2$\n",
        " and $j_{\\text{S}}^1 = -j_{\\text{S}}^2$\n",
        " due to energy conservation. At long times, we also expect $j_{\\text{B}}^1 = j_{\\text{S}}^1$\n",
        " and $j_{\\text{B}}^2 = j_{\\text{S}}^2$\n",
        " since the coupling operators commute, [Q1,Q2]=0\n",
        ". Hence, all four currents should agree in the long-time limit (up to a sign). This long-time value is what was analyzed in Ref. [2].\n",
        "\n",
        "# Simulations\n",
        "For our simulations, we will represent the bath spectral densities using the first term of their Padé decompositions, and we will use 7\n",
        " levels of the HEOM hierarchy.\n",
        "\n"
      ],
      "metadata": {
        "id": "dBjufd2pXbNb"
      }
    },
    {
      "cell_type": "code",
      "source": [
        "Nk = 1\n",
        "NC = 70"
      ],
      "metadata": {
        "id": "oEV_kGpBYAZo"
      },
      "execution_count": 7,
      "outputs": []
    },
    {
      "cell_type": "markdown",
      "source": [
        "#Time Evolution\n",
        "We fix $J_{12} = 0.1 \\epsilon$\n",
        " (as in Fig. 3(a-ii) of Ref. [2]) and choose the fixed coupling strength $\\lambda_1 = \\lambda_2 = J_{12}\\, /\\, (2\\epsilon)$\n",
        " (corresponding to $\\bar\\zeta = 1$\n",
        " in Ref. [2]). Using these values, we will study the time evolution of the system state and the heat currents."
      ],
      "metadata": {
        "id": "xQmXrqggYCNi"
      }
    },
    {
      "cell_type": "code",
      "source": [
        "# fix qubit-qubit and qubit-bath coupling strengths\n",
        "sys = SystemParams(J12=0.1)\n",
        "bath_p1 = BathParams(qubit=0, sign=\"+\", lam=sys.J12 / 2)\n",
        "bath_p2 = BathParams(qubit=1, sign=\"-\", lam=sys.J12 / 2)\n",
        "\n",
        "# choose arbitrary initial state\n",
        "rho0 = qt.tensor(qt.identity(2), qt.identity(2)) / 4\n",
        "\n",
        "# simulation time span\n",
        "tlist = np.linspace(0, 50, 250)"
      ],
      "metadata": {
        "id": "YurX4VjpYeEE"
      },
      "execution_count": 8,
      "outputs": []
    },
    {
      "cell_type": "code",
      "source": [
        "H = sys.H()\n",
        "\n",
        "bath1 = bath_p1.bath(Nk, tag='bath 1')\n",
        "Q1 = bath_p1.Q()\n",
        "\n",
        "bath2 = bath_p2.bath(Nk, tag='bath 2')\n",
        "Q2 = bath_p2.Q()\n",
        "\n",
        "b1delta, b1term = bath1.terminator()\n",
        "b2delta, b2term = bath2.terminator()\n",
        "solver = HEOMSolver(\n",
        "    qt.liouvillian(H) + b1term + b2term,\n",
        "    [bath1, bath2],\n",
        "    max_depth=NC,\n",
        "    options=options,\n",
        ")\n",
        "\n",
        "result = solver.run(rho0, tlist, e_ops=[\n",
        "    qt.tensor(qt.sigmaz(), qt.identity(2)),\n",
        "    lambda t, ado: bath_heat_current('bath 1', ado, H, Q1, b1delta),\n",
        "    lambda t, ado: bath_heat_current('bath 2', ado, H, Q2, b2delta),\n",
        "    lambda t, ado: system_heat_current('bath 1', ado, H, Q1, b1delta),\n",
        "    lambda t, ado: system_heat_current('bath 2', ado, H, Q2, b2delta),\n",
        "])"
      ],
      "metadata": {
        "id": "Eb1XgfFaYg6m"
      },
      "execution_count": null,
      "outputs": []
    },
    {
      "cell_type": "markdown",
      "source": [
        "We first plot ⟨σ1z⟩\n",
        " to see the time evolution of the system state:"
      ],
      "metadata": {
        "id": "JUWBNFARYmSf"
      }
    },
    {
      "cell_type": "code",
      "source": [
        "fig, axes = plt.subplots(figsize=(8, 8))\n",
        "axes.plot(tlist, result.expect[0], 'r', linewidth=2)\n",
        "axes.set_xlabel('t', fontsize=28)\n",
        "axes.set_ylabel(r\"$\\langle \\sigma_z^1 \\rangle$\", fontsize=28);"
      ],
      "metadata": {
        "id": "qK1hLqFgYnoh"
      },
      "execution_count": null,
      "outputs": []
    },
    {
      "cell_type": "code",
      "source": [
        "fig, (ax1, ax2) = plt.subplots(ncols=2, figsize=(16, 8))\n",
        "\n",
        "ax1.plot(\n",
        "    tlist, -np.real(result.expect[1]),\n",
        "    color='darkorange', label='BHC (bath 1 -> system)',\n",
        ")\n",
        "ax1.plot(\n",
        "    tlist, np.real(result.expect[2]),\n",
        "    '--', color='darkorange', label='BHC (system -> bath 2)',\n",
        ")\n",
        "ax1.plot(\n",
        "    tlist, -np.real(result.expect[3]),\n",
        "    color='dodgerblue', label='SHC (bath 1 -> system)',\n",
        ")\n",
        "ax1.plot(\n",
        "    tlist, np.real(result.expect[4]),\n",
        "    '--', color='dodgerblue', label='SHC (system -> bath 2)',\n",
        ")\n",
        "\n",
        "ax1.set_xlabel('t', fontsize=28)\n",
        "ax1.set_ylabel('j', fontsize=28)\n",
        "ax1.set_ylim((-0.05, 0.05))\n",
        "ax1.legend(loc=0, fontsize=12)\n",
        "\n",
        "ax2.plot(\n",
        "    tlist, -np.real(result.expect[1]),\n",
        "    color='darkorange', label='BHC (bath 1 -> system)',\n",
        ")\n",
        "ax2.plot(\n",
        "    tlist, np.real(result.expect[2]),\n",
        "    '--', color='darkorange', label='BHC (system -> bath 2)',\n",
        ")\n",
        "ax2.plot(\n",
        "    tlist, -np.real(result.expect[3]),\n",
        "    color='dodgerblue', label='SHC (bath 1 -> system)',\n",
        ")\n",
        "ax2.plot(\n",
        "    tlist, np.real(result.expect[4]),\n",
        "    '--', color='dodgerblue', label='SHC (system -> bath 2)',\n",
        ")\n",
        "\n",
        "ax2.set_xlabel('t', fontsize=28)\n",
        "ax2.set_xlim((20, 50))\n",
        "ax2.set_ylim((0, 0.0002))\n",
        "ax2.legend(loc=0, fontsize=12);"
      ],
      "metadata": {
        "id": "mFd3PX71Yvx0"
      },
      "execution_count": null,
      "outputs": []
    },
    {
      "cell_type": "markdown",
      "source": [
        "#Steady-state currents\n",
        "Here, we try to reproduce the HEOM curves in Fig. 3(a) of Ref. [1] by varying the coupling strength and finding the steady state for each coupling strength."
      ],
      "metadata": {
        "id": "Fy59HWUAYy8D"
      }
    },
    {
      "cell_type": "code",
      "source": [
        "def heat_currents(sys, bath_p1, bath_p2, Nk, NC, options):\n",
        "    \"\"\" Calculate the steady sate heat currents for the given system and\n",
        "        bath.\n",
        "    \"\"\"\n",
        "    bath1 = bath_p1.bath(Nk, tag=\"bath 1\")\n",
        "    Q1 = bath_p1.Q()\n",
        "\n",
        "    bath2 = bath_p2.bath(Nk, tag=\"bath 2\")\n",
        "    Q2 = bath_p2.Q()\n",
        "\n",
        "    b1delta, b1term = bath1.terminator()\n",
        "    b2delta, b2term = bath2.terminator()\n",
        "\n",
        "    solver = HEOMSolver(\n",
        "        qt.liouvillian(sys.H()) + b1term + b2term,\n",
        "        [bath1, bath2],\n",
        "        max_depth=NC,\n",
        "        options=options\n",
        "    )\n",
        "\n",
        "    _, steady_ados = solver.steady_state()\n",
        "\n",
        "    return (\n",
        "        bath_heat_current('bath 1', steady_ados, sys.H(), Q1, b1delta),\n",
        "        bath_heat_current('bath 2', steady_ados, sys.H(), Q2, b2delta),\n",
        "        system_heat_current('bath 1', steady_ados, sys.H(), Q1, b1delta),\n",
        "        system_heat_current('bath 2', steady_ados, sys.H(), Q2, b2delta),\n",
        "    )"
      ],
      "metadata": {
        "id": "BnI-x3NJY2WX"
      },
      "execution_count": null,
      "outputs": []
    },
    {
      "cell_type": "code",
      "source": [
        "# Define number of points to use for the plot\n",
        "plot_points = 10  # use 100 for a smoother curve\n",
        "\n",
        "# Range of relative coupling strengths\n",
        "# Chosen so that zb_max is maximum, centered around 1 on a log scale\n",
        "zb_max = 4  # use 20 to see more of the current curve\n",
        "zeta_bars = np.logspace(\n",
        "    -np.log(zb_max),\n",
        "    np.log(zb_max),\n",
        "    plot_points,\n",
        "    base=np.e,\n",
        ")\n",
        "\n",
        "# Setup a progress bar\n",
        "progress = IntProgress(min=0, max=(3 * plot_points))\n",
        "display(progress)\n",
        "\n",
        "\n",
        "def calculate_heat_current(J12, zb, Nk, progress=progress):\n",
        "    \"\"\" Calculate a single heat current and update the progress bar. \"\"\"\n",
        "    # Estimate appropriate HEOM max_depth from coupling strength\n",
        "    NC = 7 + int(max(zb * J12 - 1, 0) * 2)\n",
        "    NC = min(NC, 20)\n",
        "    # the four currents are identical in the steady state\n",
        "    j, _, _, _ = heat_currents(\n",
        "        sys.replace(J12=J12),\n",
        "        bath_p1.replace(lam=zb * J12 / 2),\n",
        "        bath_p2.replace(lam=zb * J12 / 2),\n",
        "        Nk, NC, options=options,\n",
        "    )\n",
        "    progress.value += 1\n",
        "    return j\n",
        "\n",
        "\n",
        "# Calculate steady state currents for range of zeta_bars\n",
        "# for J12 = 0.01, 0.1 and 0.5:\n",
        "j1s = [\n",
        "    calculate_heat_current(0.01, zb, Nk)\n",
        "    for zb in zeta_bars\n",
        "]\n",
        "j2s = [\n",
        "    calculate_heat_current(0.1, zb, Nk)\n",
        "    for zb in zeta_bars\n",
        "]\n",
        "j3s = [\n",
        "    calculate_heat_current(0.5, zb, Nk)\n",
        "    for zb in zeta_bars\n",
        "]"
      ],
      "metadata": {
        "id": "w2t4g1XTY91z"
      },
      "execution_count": null,
      "outputs": []
    },
    {
      "cell_type": "markdown",
      "source": [
        "#Create Plot"
      ],
      "metadata": {
        "id": "7T4--LO4ZChy"
      }
    },
    {
      "cell_type": "code",
      "source": [
        "fig, axes = plt.subplots(figsize=(12, 7))\n",
        "\n",
        "axes.plot(\n",
        "    zeta_bars, -1000 * 100 * np.real(j1s),\n",
        "    'b', linewidth=2, label=r\"$J_{12} = 0.01\\, \\epsilon$\",\n",
        ")\n",
        "axes.plot(\n",
        "    zeta_bars, -1000 * 10 * np.real(j2s),\n",
        "    'r--',  linewidth=2, label=r\"$J_{12} = 0.1\\, \\epsilon$\",\n",
        ")\n",
        "axes.plot(\n",
        "    zeta_bars, -1000 * 2 * np.real(j3s),\n",
        "    'g-.', linewidth=2, label=r\"$J_{12} = 0.5\\, \\epsilon$\",\n",
        ")\n",
        "\n",
        "axes.set_xscale('log')\n",
        "axes.set_xlabel(r\"$\\bar\\zeta$\", fontsize=30)\n",
        "axes.set_xlim((zeta_bars[0], zeta_bars[-1]))\n",
        "\n",
        "axes.set_ylabel(\n",
        "    r\"$j_{\\mathrm{ss}}\\; /\\; (\\epsilon J_{12}) \\times 10^3$\",\n",
        "    fontsize=30,\n",
        ")\n",
        "axes.set_ylim((0, 2))\n",
        "\n",
        "axes.legend(loc=0);"
      ],
      "metadata": {
        "id": "pRgfd9CcZI0l"
      },
      "execution_count": null,
      "outputs": []
    }
  ]
}